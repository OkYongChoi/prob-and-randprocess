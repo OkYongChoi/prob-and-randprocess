{
  "nbformat": 4,
  "nbformat_minor": 0,
  "metadata": {
    "colab": {
      "name": "markov_chains.ipynb",
      "provenance": [],
      "authorship_tag": "ABX9TyNnB7zzxk4whK9Ubr4H4C6S"
    },
    "kernelspec": {
      "name": "python3",
      "display_name": "Python 3"
    },
    "language_info": {
      "name": "python"
    }
  },
  "cells": [
    {
      "cell_type": "code",
      "metadata": {
        "id": "Np5VQLOp0Ey4"
      },
      "source": [
        "import numpy as np\n",
        "import scipy.linalg as la"
      ],
      "execution_count": 1,
      "outputs": []
    },
    {
      "cell_type": "code",
      "metadata": {
        "id": "ulfry8Ad0Lso"
      },
      "source": [
        "P = np.zeros((50,50))"
      ],
      "execution_count": 2,
      "outputs": []
    },
    {
      "cell_type": "code",
      "metadata": {
        "id": "Lqlq9Dxm0aNb"
      },
      "source": [
        "P[0,0] = 1/2\n",
        "P[1,0] = 1/2\n",
        "P[49,49] = 1/2\n",
        "P[48,49] = 1/2"
      ],
      "execution_count": 3,
      "outputs": []
    },
    {
      "cell_type": "code",
      "metadata": {
        "id": "Go_vRaW60xUY"
      },
      "source": [
        "for i in range(1,49):\n",
        "    P[i-1,i] = 1/3\n",
        "    P[i,i] = 1/3\n",
        "    P[i+1,i] = 1/3"
      ],
      "execution_count": 4,
      "outputs": []
    },
    {
      "cell_type": "code",
      "metadata": {
        "colab": {
          "base_uri": "https://localhost:8080/"
        },
        "id": "O6sPuIno6cBm",
        "outputId": "83ff24f5-3116-406c-d9f9-d6eb88b661c0"
      },
      "source": [
        "x = la.solve(P - np.identity(50), np.zeros(50))\n",
        "x"
      ],
      "execution_count": 6,
      "outputs": [
        {
          "output_type": "stream",
          "text": [
            "/usr/local/lib/python3.7/dist-packages/ipykernel_launcher.py:1: LinAlgWarning: Ill-conditioned matrix (rcond=7.9891e-17): result may not be accurate.\n",
            "  \"\"\"Entry point for launching an IPython kernel.\n"
          ],
          "name": "stderr"
        },
        {
          "output_type": "execute_result",
          "data": {
            "text/plain": [
              "array([-0., -0., -0., -0., -0., -0., -0., -0., -0., -0., -0., -0., -0.,\n",
              "       -0., -0., -0., -0., -0., -0., -0., -0., -0., -0., -0., -0., -0.,\n",
              "       -0., -0., -0., -0., -0., -0., -0., -0., -0., -0., -0., -0., -0.,\n",
              "       -0., -0., -0., -0., -0., -0., -0., -0., -0., -0., -0.])"
            ]
          },
          "metadata": {
            "tags": []
          },
          "execution_count": 6
        }
      ]
    },
    {
      "cell_type": "code",
      "metadata": {
        "id": "9YdAUTO91dhm"
      },
      "source": [
        "inf_P = np.identity(50)\n",
        "for i in range(100):\n",
        "    inf_P = inf_P * P"
      ],
      "execution_count": 45,
      "outputs": []
    },
    {
      "cell_type": "code",
      "metadata": {
        "id": "WZqFkKuJ4eEf"
      },
      "source": [
        ""
      ],
      "execution_count": 46,
      "outputs": []
    },
    {
      "cell_type": "code",
      "metadata": {
        "colab": {
          "base_uri": "https://localhost:8080/"
        },
        "id": "2mVk-OtFD6ut",
        "outputId": "438359b7-5fcf-4b80-e038-01ab1c875241"
      },
      "source": [
        "Ld"
      ],
      "execution_count": 84,
      "outputs": [
        {
          "output_type": "execute_result",
          "data": {
            "text/plain": [
              "array([[0.5       , 0.33333333, 0.        , ..., 0.        , 0.        ,\n",
              "        0.        ],\n",
              "       [0.        , 0.33333333, 0.33333333, ..., 0.        , 0.        ,\n",
              "        0.        ],\n",
              "       [1.        , 0.        , 0.33333333, ..., 0.        , 0.        ,\n",
              "        0.        ],\n",
              "       ...,\n",
              "       [0.        , 0.        , 0.        , ..., 0.33333333, 0.        ,\n",
              "        0.        ],\n",
              "       [0.        , 0.        , 0.        , ..., 1.        , 0.33333333,\n",
              "        0.5       ],\n",
              "       [0.        , 0.        , 0.        , ..., 0.        , 1.        ,\n",
              "        0.        ]])"
            ]
          },
          "metadata": {
            "tags": []
          },
          "execution_count": 84
        }
      ]
    },
    {
      "cell_type": "code",
      "metadata": {
        "id": "0gFui2Lk7Cko"
      },
      "source": [
        "p = np.ones(50)/50"
      ],
      "execution_count": 38,
      "outputs": []
    },
    {
      "cell_type": "code",
      "metadata": {
        "id": "Umhf49WD8WLw"
      },
      "source": [
        "a  =  @ p"
      ],
      "execution_count": 42,
      "outputs": []
    },
    {
      "cell_type": "code",
      "metadata": {
        "colab": {
          "base_uri": "https://localhost:8080/"
        },
        "id": "jbtyunHL8ZjA",
        "outputId": "8bd2f78a-6094-41ec-b5d5-32bb4f3c20c2"
      },
      "source": [
        "np.zeros(50).T"
      ],
      "execution_count": 55,
      "outputs": [
        {
          "output_type": "execute_result",
          "data": {
            "text/plain": [
              "array([0., 0., 0., 0., 0., 0., 0., 0., 0., 0., 0., 0., 0., 0., 0., 0., 0.,\n",
              "       0., 0., 0., 0., 0., 0., 0., 0., 0., 0., 0., 0., 0., 0., 0., 0., 0.,\n",
              "       0., 0., 0., 0., 0., 0., 0., 0., 0., 0., 0., 0., 0., 0., 0., 0.])"
            ]
          },
          "metadata": {
            "tags": []
          },
          "execution_count": 55
        }
      ]
    },
    {
      "cell_type": "code",
      "metadata": {
        "id": "ODSfAQuP8h-A"
      },
      "source": [
        "a = np.array([1,2])\n",
        "b = a"
      ],
      "execution_count": 59,
      "outputs": []
    },
    {
      "cell_type": "code",
      "metadata": {
        "colab": {
          "base_uri": "https://localhost:8080/"
        },
        "id": "ZcWvT8h89aKD",
        "outputId": "ec87fe80-87a3-408e-e60a-e63e8cf8b3ae"
      },
      "source": [
        "a @ b"
      ],
      "execution_count": 64,
      "outputs": [
        {
          "output_type": "execute_result",
          "data": {
            "text/plain": [
              "5"
            ]
          },
          "metadata": {
            "tags": []
          },
          "execution_count": 64
        }
      ]
    },
    {
      "cell_type": "code",
      "metadata": {
        "id": "IDyRxpoZ9hxD"
      },
      "source": [
        ""
      ],
      "execution_count": null,
      "outputs": []
    }
  ]
}