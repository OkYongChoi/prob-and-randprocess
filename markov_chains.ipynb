{
  "nbformat": 4,
  "nbformat_minor": 0,
  "metadata": {
    "colab": {
      "name": "markov_chains.ipynb",
      "provenance": [],
      "authorship_tag": "ABX9TyPG/LKpfF76ksvPrXXdxrKZ"
    },
    "kernelspec": {
      "name": "python3",
      "display_name": "Python 3"
    },
    "language_info": {
      "name": "python"
    }
  },
  "cells": [
    {
      "cell_type": "code",
      "metadata": {
        "id": "Np5VQLOp0Ey4"
      },
      "source": [
        "import numpy as np\n",
        "import scipy.linalg as la"
      ],
      "execution_count": 1,
      "outputs": []
    },
    {
      "cell_type": "code",
      "metadata": {
        "id": "ulfry8Ad0Lso"
      },
      "source": [
        "P = np.zeros((50,50))"
      ],
      "execution_count": 2,
      "outputs": []
    },
    {
      "cell_type": "code",
      "metadata": {
        "id": "Lqlq9Dxm0aNb"
      },
      "source": [
        "P[0,0] = 1/2\n",
        "P[1,0] = 1/2\n",
        "P[49,49] = 1/2\n",
        "P[48,49] = 1/2"
      ],
      "execution_count": 3,
      "outputs": []
    },
    {
      "cell_type": "code",
      "metadata": {
        "id": "Go_vRaW60xUY"
      },
      "source": [
        "for i in range(1,49):\n",
        "    P[i-1,i] = 1/3\n",
        "    P[i,i] = 1/3\n",
        "    P[i+1,i] = 1/3"
      ],
      "execution_count": 4,
      "outputs": []
    },
    {
      "cell_type": "code",
      "metadata": {
        "colab": {
          "base_uri": "https://localhost:8080/"
        },
        "id": "O6sPuIno6cBm",
        "outputId": "83ff24f5-3116-406c-d9f9-d6eb88b661c0"
      },
      "source": [
        "x = la.solve(P - np.identity(50), np.zeros(50))\n",
        "x"
      ],
      "execution_count": 6,
      "outputs": [
        {
          "output_type": "stream",
          "text": [
            "/usr/local/lib/python3.7/dist-packages/ipykernel_launcher.py:1: LinAlgWarning: Ill-conditioned matrix (rcond=7.9891e-17): result may not be accurate.\n",
            "  \"\"\"Entry point for launching an IPython kernel.\n"
          ],
          "name": "stderr"
        },
        {
          "output_type": "execute_result",
          "data": {
            "text/plain": [
              "array([-0., -0., -0., -0., -0., -0., -0., -0., -0., -0., -0., -0., -0.,\n",
              "       -0., -0., -0., -0., -0., -0., -0., -0., -0., -0., -0., -0., -0.,\n",
              "       -0., -0., -0., -0., -0., -0., -0., -0., -0., -0., -0., -0., -0.,\n",
              "       -0., -0., -0., -0., -0., -0., -0., -0., -0., -0., -0.])"
            ]
          },
          "metadata": {
            "tags": []
          },
          "execution_count": 6
        }
      ]
    },
    {
      "cell_type": "code",
      "metadata": {
        "id": "9YdAUTO91dhm"
      },
      "source": [
        "inf_P = np.identity(50)\n",
        "for i in range(100):\n",
        "    inf_P = inf_P * P"
      ],
      "execution_count": 45,
      "outputs": []
    }
  ]
}