{
  "nbformat": 4,
  "nbformat_minor": 0,
  "metadata": {
    "colab": {
      "name": "markov_chains.ipynb",
      "provenance": [],
      "collapsed_sections": [],
      "authorship_tag": "ABX9TyPnm5Nlrtq+8lq98i+XK8ne"
    },
    "kernelspec": {
      "name": "python3",
      "display_name": "Python 3"
    },
    "language_info": {
      "name": "python"
    }
  },
  "cells": [
    {
      "cell_type": "markdown",
      "metadata": {
        "id": "su-1kF4K20o2"
      },
      "source": [
        "Consider the following Markov chain. \\\\\n",
        "    • The state space $S = \\{S^{1} , S^{2} , · · · , S^{50}\\}$, where the cardinality of the state space is 50. \\\\\n",
        "    • The transition probability is given by \\\\\n",
        "$P(S_1|S_1) = 1/2, P(S_2|S_1) = 1/2$ \\\\\n",
        "$P(S_{50}|S_{50}) = 1/2, P(S_{49} |S_{50}) = 1/2$ \\\\\n",
        "$P(S_{i−1}|S_{i}) = 1/3, P(S_{i}|S_{i}) = 1/3, P(S_{i+1}|S_{i}) = 1/3$, for 2 ≤ i ≤ 49. \\\\"
      ]
    },
    {
      "cell_type": "markdown",
      "metadata": {
        "id": "Hh-sKjd-0BOr"
      },
      "source": [
        "(a) Obtain the stationary distribution of this Markov chain by solving the stationarity equation: \\\\\n",
        "$p = Pp$, \\\\\n",
        "where $p = [p_1 , · · · , p_{50} ]^\\intercal$ is the stationary distribution vector, and P is the transition\n",
        "probability matrix of which (i, j) element $P_{ij} = P (S_{i} |S_{j}).$"
      ]
    },
    {
      "cell_type": "code",
      "metadata": {
        "id": "Np5VQLOp0Ey4"
      },
      "source": [
        "import numpy as np\n",
        "import scipy.linalg as la"
      ],
      "execution_count": 1,
      "outputs": []
    },
    {
      "cell_type": "code",
      "metadata": {
        "id": "ulfry8Ad0Lso"
      },
      "source": [
        "P = np.zeros((50,50))"
      ],
      "execution_count": 2,
      "outputs": []
    },
    {
      "cell_type": "code",
      "metadata": {
        "id": "Lqlq9Dxm0aNb"
      },
      "source": [
        "P[0,0] = 1/2\n",
        "P[1,0] = 1/2\n",
        "P[49,49] = 1/2\n",
        "P[48,49] = 1/2"
      ],
      "execution_count": 3,
      "outputs": []
    },
    {
      "cell_type": "code",
      "metadata": {
        "colab": {
          "base_uri": "https://localhost:8080/"
        },
        "id": "Go_vRaW60xUY",
        "outputId": "d4928490-22ce-482a-aa12-8d6853657864"
      },
      "source": [
        "for i in range(1,49):\n",
        "    P[i-1,i] = 1/3\n",
        "    P[i,i] = 1/3\n",
        "    P[i+1,i] = 1/3\n",
        "print(P)"
      ],
      "execution_count": 4,
      "outputs": [
        {
          "output_type": "stream",
          "text": [
            "[[0.5        0.33333333 0.         ... 0.         0.         0.        ]\n",
            " [0.5        0.33333333 0.33333333 ... 0.         0.         0.        ]\n",
            " [0.         0.33333333 0.33333333 ... 0.         0.         0.        ]\n",
            " ...\n",
            " [0.         0.         0.         ... 0.33333333 0.33333333 0.        ]\n",
            " [0.         0.         0.         ... 0.33333333 0.33333333 0.5       ]\n",
            " [0.         0.         0.         ... 0.         0.33333333 0.5       ]]\n"
          ],
          "name": "stdout"
        }
      ]
    },
    {
      "cell_type": "code",
      "metadata": {
        "id": "O6sPuIno6cBm"
      },
      "source": [
        "#x = la.solve(P - np.identity(50), np.zeros(50))\n",
        "#x"
      ],
      "execution_count": 5,
      "outputs": []
    },
    {
      "cell_type": "markdown",
      "metadata": {
        "id": "qCACZUcn3D4d"
      },
      "source": [
        "The above method counld not work becuase $I-P$ is the singular matrix."
      ]
    },
    {
      "cell_type": "code",
      "metadata": {
        "colab": {
          "base_uri": "https://localhost:8080/"
        },
        "id": "13dKDss03QJL",
        "outputId": "863ad411-8f35-4a16-87f5-731421ba51cc"
      },
      "source": [
        "eigvals, eigvecs = la.eig(P)\n",
        "eigvals[37]"
      ],
      "execution_count": 6,
      "outputs": [
        {
          "output_type": "execute_result",
          "data": {
            "text/plain": [
              "(0.9999999999999997+0j)"
            ]
          },
          "metadata": {
            "tags": []
          },
          "execution_count": 6
        }
      ]
    },
    {
      "cell_type": "code",
      "metadata": {
        "id": "3FKIB9w3O1np"
      },
      "source": [
        "sum = 0\n",
        "for i in eigvecs[:,37]:\n",
        "    sum += i"
      ],
      "execution_count": 7,
      "outputs": []
    },
    {
      "cell_type": "code",
      "metadata": {
        "colab": {
          "base_uri": "https://localhost:8080/"
        },
        "id": "IbLS6EcXGwRb",
        "outputId": "a0622bbd-b3c5-4050-df96-dd6e0c623028"
      },
      "source": [
        "p = eigvecs[:,37]/sum # Be careful! eigves[37] is not corresponding e-vectors to e-values\n",
        "p"
      ],
      "execution_count": 8,
      "outputs": [
        {
          "output_type": "execute_result",
          "data": {
            "text/plain": [
              "array([0.01351351, 0.02027027, 0.02027027, 0.02027027, 0.02027027,\n",
              "       0.02027027, 0.02027027, 0.02027027, 0.02027027, 0.02027027,\n",
              "       0.02027027, 0.02027027, 0.02027027, 0.02027027, 0.02027027,\n",
              "       0.02027027, 0.02027027, 0.02027027, 0.02027027, 0.02027027,\n",
              "       0.02027027, 0.02027027, 0.02027027, 0.02027027, 0.02027027,\n",
              "       0.02027027, 0.02027027, 0.02027027, 0.02027027, 0.02027027,\n",
              "       0.02027027, 0.02027027, 0.02027027, 0.02027027, 0.02027027,\n",
              "       0.02027027, 0.02027027, 0.02027027, 0.02027027, 0.02027027,\n",
              "       0.02027027, 0.02027027, 0.02027027, 0.02027027, 0.02027027,\n",
              "       0.02027027, 0.02027027, 0.02027027, 0.02027027, 0.01351351])"
            ]
          },
          "metadata": {
            "tags": []
          },
          "execution_count": 8
        }
      ]
    },
    {
      "cell_type": "markdown",
      "metadata": {
        "id": "hKkRzCAnPQHC"
      },
      "source": [
        "(b) Now, set $p_0 = [1, 0, 0, · · · , 0]$ and use iteration: \\\\\n",
        "$p_n = Pp_{n−1}, n = 1, 2, · · ·$ \\\\\n",
        "Draw $p_{n}$ for each n in a figure, where the x-axis represents state index and the y-axis represent its stationary probability value. What do you observe as n increases? Compare this with the result in Problem (a)."
      ]
    },
    {
      "cell_type": "code",
      "metadata": {
        "colab": {
          "base_uri": "https://localhost:8080/",
          "height": 653
        },
        "id": "9YdAUTO91dhm",
        "outputId": "909b3b0a-781b-4f27-94be-1867afa5d6be"
      },
      "source": [
        "import matplotlib.pyplot as plt\n",
        "\n",
        "fig, ax = plt.subplots(figsize=(10, 8))  # Create a figure and an axes.\n",
        "plt.plot(p, label='p=Pp')\n",
        "p_0 = np.zeros(50)\n",
        "p_0[0] = 1\n",
        "inf_P = np.identity(50)\n",
        "for i in range(10000):\n",
        "    inf_P = inf_P @ P   \n",
        "    if i == 49:\n",
        "        plt.plot(inf_P @ p_0 , 'o', label= \"p_\"+str(i+1))        \n",
        "    elif i == 99:\n",
        "        plt.plot(inf_P @ p_0 , 'o', label= \"p_\"+str(i+1))\n",
        "    elif i == 499:\n",
        "        plt.plot(inf_P @ p_0 , 'o', label= \"p_\"+str(i+1))        \n",
        "    elif i == 9999:\n",
        "        plt.plot(inf_P @ p_0 , 'o', linestyle = 'None', label= \"p_\"+str(i+1))\n",
        "plt.legend(prop={\"size\":20})\n",
        "        \n",
        "\n",
        "stationary_p = inf_P @ p_0\n",
        "stationary_p"
      ],
      "execution_count": 9,
      "outputs": [
        {
          "output_type": "execute_result",
          "data": {
            "text/plain": [
              "array([0.01351355, 0.02027032, 0.02027032, 0.02027032, 0.02027032,\n",
              "       0.02027032, 0.02027032, 0.02027032, 0.02027032, 0.02027032,\n",
              "       0.02027031, 0.02027031, 0.02027031, 0.02027031, 0.0202703 ,\n",
              "       0.0202703 , 0.0202703 , 0.0202703 , 0.02027029, 0.02027029,\n",
              "       0.02027029, 0.02027028, 0.02027028, 0.02027028, 0.02027027,\n",
              "       0.02027027, 0.02027027, 0.02027026, 0.02027026, 0.02027025,\n",
              "       0.02027025, 0.02027025, 0.02027025, 0.02027024, 0.02027024,\n",
              "       0.02027024, 0.02027023, 0.02027023, 0.02027023, 0.02027023,\n",
              "       0.02027022, 0.02027022, 0.02027022, 0.02027022, 0.02027022,\n",
              "       0.02027022, 0.02027022, 0.02027022, 0.02027022, 0.01351348])"
            ]
          },
          "metadata": {
            "tags": []
          },
          "execution_count": 9
        },
        {
          "output_type": "display_data",
          "data": {
            "image/png": "[encoded data removed]",
            "text/plain": [
              "<Figure size 720x576 with 1 Axes>"
            ]
          },
          "metadata": {
            "tags": [],
            "needs_background": "light"
          }
        }
      ]
    },
    {
      "cell_type": "code",
      "metadata": {
        "id": "w1TZZ_nDFxkb"
      },
      "source": [
        ""
      ],
      "execution_count": 9,
      "outputs": []
    }
  ]
}