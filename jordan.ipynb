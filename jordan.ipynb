{
  "nbformat": 4,
  "nbformat_minor": 0,
  "metadata": {
    "colab": {
      "name": "jordan.ipynb",
      "provenance": [],
      "authorship_tag": "ABX9TyN890z3WkNz8rQjLm27bLCA"
    },
    "kernelspec": {
      "name": "python3",
      "display_name": "Python 3"
    },
    "language_info": {
      "name": "python"
    }
  },
  "cells": [
    {
      "cell_type": "markdown",
      "metadata": {
        "id": "E7-yPmFo3H_0"
      },
      "source": [
        "In order to calculate the Jordan form in Python, we get it from the SymPy library, as the MATLAB Jordan function is from the Symbolic Math Toolbox.\n",
        "\n",
        "The SymPy Matrix class has the method jordan_form()."
      ]
    },
    {
      "cell_type": "code",
      "metadata": {
        "id": "B15gRW_K2d91"
      },
      "source": [
        "import numpy as np\n",
        "from sympy import Matrix\n",
        "\n",
        "a = np.array([[1, 1, 0], [0, -2, 0], [0, 1, -2]])\n",
        "A = Matrix(a)\n",
        "T, J = A.jordan_form()"
      ],
      "execution_count": 2,
      "outputs": []
    },
    {
      "cell_type": "code",
      "metadata": {
        "colab": {
          "base_uri": "https://localhost:8080/"
        },
        "id": "J0SE36y54VQb",
        "outputId": "61274ec0-3e73-4bf4-e39a-dd1d3b50eadc"
      },
      "source": [
        "print(T, J)"
      ],
      "execution_count": 9,
      "outputs": [
        {
          "output_type": "stream",
          "text": [
            "Matrix([[0, -1/3, 1], [0, 1, 0], [1, 0, 0]]) Matrix([[-2, 1, 0], [0, -2, 0], [0, 0, 1]])\n"
          ],
          "name": "stdout"
        }
      ]
    },
    {
      "cell_type": "code",
      "metadata": {
        "id": "REFKzXJS4nJ8"
      },
      "source": [
        "T_inv = T.inv()\n",
        "T_inv"
      ],
      "execution_count": 7,
      "outputs": []
    },
    {
      "cell_type": "code",
      "metadata": {
        "colab": {
          "base_uri": "https://localhost:8080/",
          "height": 78
        },
        "id": "5VCJJWYaU_Hh",
        "outputId": "492bd19c-d5c5-4fed-d2cf-bd1239265949"
      },
      "source": [
        "T@T_inv"
      ],
      "execution_count": 8,
      "outputs": [
        {
          "output_type": "execute_result",
          "data": {
            "text/latex": "$\\displaystyle \\left[\\begin{matrix}1 & 0 & 0\\\\0 & 1 & 0\\\\0 & 0 & 1\\end{matrix}\\right]$",
            "text/plain": [
              "Matrix([\n",
              "[1, 0, 0],\n",
              "[0, 1, 0],\n",
              "[0, 0, 1]])"
            ]
          },
          "metadata": {
            "tags": []
          },
          "execution_count": 8
        }
      ]
    },
    {
      "cell_type": "code",
      "metadata": {
        "id": "3xYo5J1Sk9Dh"
      },
      "source": [
        "from sympy import symbols\n",
        "x, y, k = symbols('x y k')"
      ],
      "execution_count": 24,
      "outputs": []
    },
    {
      "cell_type": "code",
      "metadata": {
        "id": "5U9N8rD4li-v"
      },
      "source": [
        "from sympy import sin, cos, exp\n",
        "sin1 = sin(1)\n",
        "sin2 = sin(2)\n",
        "cos2 = cos(2)\n",
        "\n",
        "expr1 = (-2)**k\n",
        "expr2 = k*(-2)**(k-1)"
      ],
      "execution_count": 27,
      "outputs": []
    },
    {
      "cell_type": "code",
      "metadata": {
        "id": "mRyyDztQmTJv"
      },
      "source": [
        "temp = np.array([[-sin2, cos2, 0], [0, -sin2, 0], [0,0, sin1]])"
      ],
      "execution_count": 17,
      "outputs": []
    },
    {
      "cell_type": "code",
      "metadata": {
        "colab": {
          "base_uri": "https://localhost:8080/",
          "height": 81
        },
        "id": "-0rmq8GFmpWo",
        "outputId": "ff87c90a-c258-4169-cd1c-57a0ec279b2f"
      },
      "source": [
        "T @ temp @ T_inv"
      ],
      "execution_count": 20,
      "outputs": [
        {
          "output_type": "execute_result",
          "data": {
            "text/latex": "$\\displaystyle \\left[\\begin{matrix}\\sin{\\left(1 \\right)} & \\frac{\\sin{\\left(1 \\right)}}{3} + \\frac{\\sin{\\left(2 \\right)}}{3} & 0\\\\0 & - \\sin{\\left(2 \\right)} & 0\\\\0 & \\cos{\\left(2 \\right)} & - \\sin{\\left(2 \\right)}\\end{matrix}\\right]$",
            "text/plain": [
              "Matrix([\n",
              "[sin(1), sin(1)/3 + sin(2)/3,       0],\n",
              "[     0,             -sin(2),       0],\n",
              "[     0,              cos(2), -sin(2)]])"
            ]
          },
          "metadata": {
            "tags": []
          },
          "execution_count": 20
        }
      ]
    },
    {
      "cell_type": "code",
      "metadata": {
        "colab": {
          "base_uri": "https://localhost:8080/",
          "height": 39
        },
        "id": "MfiUOWz9ms7Q",
        "outputId": "d003a7cd-a532-4ab6-83a5-6214d6b04f57"
      },
      "source": [
        "exp = (-2)**k\n",
        "exp"
      ],
      "execution_count": 25,
      "outputs": [
        {
          "output_type": "execute_result",
          "data": {
            "text/latex": "$\\displaystyle \\left(-2\\right)^{k}$",
            "text/plain": [
              "(-2)**k"
            ]
          },
          "metadata": {
            "tags": []
          },
          "execution_count": 25
        }
      ]
    },
    {
      "cell_type": "code",
      "metadata": {
        "id": "Ds_oJfClo2br"
      },
      "source": [
        ""
      ],
      "execution_count": null,
      "outputs": []
    }
  ]
}