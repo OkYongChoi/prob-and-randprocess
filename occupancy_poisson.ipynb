{
  "nbformat": 4,
  "nbformat_minor": 0,
  "metadata": {
    "colab": {
      "name": "occupancy_poisson.ipynb",
      "provenance": [],
      "collapsed_sections": [],
      "authorship_tag": "ABX9TyNlt8jKN7jkoM6NFoE0cfti",
      "include_colab_link": true
    },
    "kernelspec": {
      "name": "python3",
      "display_name": "Python 3"
    }
  },
  "cells": [
    {
      "cell_type": "markdown",
      "metadata": {
        "id": "view-in-github",
        "colab_type": "text"
      },
      "source": [
        "<a href=\"https://colab.research.google.com/github/burger-okd/Probability_and_Random_Process/blob/master/occupancy_poisson.ipynb\" target=\"_parent\"><img src=\"https://colab.research.google.com/assets/colab-badge.svg\" alt=\"Open In Colab\"/></a>"
      ]
    },
    {
      "cell_type": "code",
      "metadata": {
        "id": "UdyuKtxzvhru"
      },
      "source": [
        "\"\"\"\n",
        "From Occupancy problem...\n",
        "We are placing r balls into n cells randomly, denote the probability of exactly k cells are empty by P_k(r, n).\n",
        "I'll show you that for a large n it goes to the Poisson distribution\n",
        "\n",
        "S_k...\n",
        "P_k(r,n) is expressed as S_k * P_0(r, n-k) and the exact formulation is as below.\n",
        "Fianlly, P_k(r,n) = (C(n,k)) * sum{(-1)^v * (C(n-k,v)*(1-(k+v)/n)^r} in which the summation is applied to v from 0 to n-k\n",
        "\n",
        "P_k(r,n) is approximated to the Poisson distribution with mu = n*exp(-r/n)\n",
        "p_k(r,n) ~ (mu^k/k!)*exp(-mu)\n",
        "\n",
        "Let's compare the p_k(40,20) and the Poisson distribution for large k(0~20)\n",
        "\"\"\"\n",
        "\n",
        "import numpy as np\n",
        "from scipy.special import comb # can use 'itertools.combination' insted\n",
        "from scipy.stats import poisson\n"
      ],
      "execution_count": null,
      "outputs": []
    },
    {
      "cell_type": "code",
      "metadata": {
        "id": "nS6027cAJbqz"
      },
      "source": [
        "def k_empty_prob(r,n,k):\n",
        "    \"\"\"\n",
        "    r: the number of the balls\n",
        "    n: the number of the cells\n",
        "\n",
        "    p(r,n,k): probability of \"exactly\" k cells are empty\n",
        "    P_k(r,n) = C(n,k) * sum{(-1)^v * (C(n-k,v) * (1-(k+v)/n)^r}  :v is from 0 to n-k\n",
        "    \"\"\"\n",
        "    #calculate sum{} term\n",
        "    sum = 0\n",
        "    for v in range(r-k+1):\n",
        "        sum += (-1)**v * (comb(n-k,v) * (1-(k+v)/n)**r)\n",
        "\n",
        "    prob = comb(n,k) * sum\n",
        "\n",
        "    return prob"
      ],
      "execution_count": null,
      "outputs": []
    },
    {
      "cell_type": "code",
      "metadata": {
        "id": "7NYa0zNUBZg5"
      },
      "source": [
        "def poisson_pmf(r,n,k):\n",
        "    \"\"\"\n",
        "    (mu^k/k!)*exp(-mu)\n",
        "    \"\"\"\n",
        "    mu = n*np.exp(-r/n)\n",
        "    return poisson.pmf(k, mu)"
      ],
      "execution_count": null,
      "outputs": []
    },
    {
      "cell_type": "code",
      "metadata": {
        "id": "di2LH-5P-lc-",
        "outputId": "ce86b645-7710-4745-b82a-de9eae78e843",
        "colab": {
          "base_uri": "https://localhost:8080/",
          "height": 265
        }
      },
      "source": [
        "import matplotlib.pylab as plt\n",
        "\n",
        "k_empty_prob_list = [k_empty_prob(40,20,k) for k in range(21)]\n",
        "poisson_pmf_list = [poisson_pmf(40,20,k) for k in range(21)]\n",
        "\n",
        "#plt.figure(figsize=(8,8))\n",
        "plt.plot(k_empty_prob_list, label = 'k empty prob', marker ='o')\n",
        "plt.plot(poisson_pmf_list, label = 'Poisson', marker = 's')\n",
        "plt.legend()\n",
        "plt.show()"
      ],
      "execution_count": null,
      "outputs": [
        {
          "output_type": "display_data",
          "data": {
            "image/png": "[encoded data removed]",
            "text/plain": [
              "<Figure size 432x288 with 1 Axes>"
            ]
          },
          "metadata": {
            "tags": [],
            "needs_background": "light"
          }
        }
      ]
    },
    {
      "cell_type": "code",
      "metadata": {
        "id": "0fBuDFneCX0X",
        "outputId": "d1bf6d95-e333-4bfd-eaad-a82f6dcb6c00",
        "colab": {
          "base_uri": "https://localhost:8080/",
          "height": 359
        }
      },
      "source": [
        "import pandas as pd\n",
        "dict = {'k empty prob': k_empty_prob_list, 'Poisson': poisson_pmf_list, 'Difference': np.abs(np.array(k_empty_prob_list) - np.array(poisson_pmf_list))}\n",
        "df = pd.DataFrame(dict)\n",
        "df.tail(10)"
      ],
      "execution_count": null,
      "outputs": [
        {
          "output_type": "execute_result",
          "data": {
            "text/html": [
              "<div>\n",
              "<style scoped>\n",
              "    .dataframe tbody tr th:only-of-type {\n",
              "        vertical-align: middle;\n",
              "    }\n",
              "\n",
              "    .dataframe tbody tr th {\n",
              "        vertical-align: top;\n",
              "    }\n",
              "\n",
              "    .dataframe thead th {\n",
              "        text-align: right;\n",
              "    }\n",
              "</style>\n",
              "<table border=\"1\" class=\"dataframe\">\n",
              "  <thead>\n",
              "    <tr style=\"text-align: right;\">\n",
              "      <th></th>\n",
              "      <th>k empty prob</th>\n",
              "      <th>Poisson</th>\n",
              "      <th>Difference</th>\n",
              "    </tr>\n",
              "  </thead>\n",
              "  <tbody>\n",
              "    <tr>\n",
              "      <th>11</th>\n",
              "      <td>2.078647e-09</td>\n",
              "      <td>9.554067e-05</td>\n",
              "      <td>9.553859e-05</td>\n",
              "    </tr>\n",
              "    <tr>\n",
              "      <th>12</th>\n",
              "      <td>1.464957e-11</td>\n",
              "      <td>2.155004e-05</td>\n",
              "      <td>2.155003e-05</td>\n",
              "    </tr>\n",
              "    <tr>\n",
              "      <th>13</th>\n",
              "      <td>4.423017e-14</td>\n",
              "      <td>4.486894e-06</td>\n",
              "      <td>4.486893e-06</td>\n",
              "    </tr>\n",
              "    <tr>\n",
              "      <th>14</th>\n",
              "      <td>4.693081e-17</td>\n",
              "      <td>8.674786e-07</td>\n",
              "      <td>8.674786e-07</td>\n",
              "    </tr>\n",
              "    <tr>\n",
              "      <th>15</th>\n",
              "      <td>1.281608e-20</td>\n",
              "      <td>1.565339e-07</td>\n",
              "      <td>1.565339e-07</td>\n",
              "    </tr>\n",
              "    <tr>\n",
              "      <th>16</th>\n",
              "      <td>5.326920e-25</td>\n",
              "      <td>2.648071e-08</td>\n",
              "      <td>2.648071e-08</td>\n",
              "    </tr>\n",
              "    <tr>\n",
              "      <th>17</th>\n",
              "      <td>1.260536e-30</td>\n",
              "      <td>4.216205e-09</td>\n",
              "      <td>4.216205e-09</td>\n",
              "    </tr>\n",
              "    <tr>\n",
              "      <th>18</th>\n",
              "      <td>1.900000e-38</td>\n",
              "      <td>6.340014e-10</td>\n",
              "      <td>6.340014e-10</td>\n",
              "    </tr>\n",
              "    <tr>\n",
              "      <th>19</th>\n",
              "      <td>1.818989e-51</td>\n",
              "      <td>9.031869e-11</td>\n",
              "      <td>9.031869e-11</td>\n",
              "    </tr>\n",
              "    <tr>\n",
              "      <th>20</th>\n",
              "      <td>0.000000e+00</td>\n",
              "      <td>1.222331e-11</td>\n",
              "      <td>1.222331e-11</td>\n",
              "    </tr>\n",
              "  </tbody>\n",
              "</table>\n",
              "</div>"
            ],
            "text/plain": [
              "    k empty prob       Poisson    Difference\n",
              "11  2.078647e-09  9.554067e-05  9.553859e-05\n",
              "12  1.464957e-11  2.155004e-05  2.155003e-05\n",
              "13  4.423017e-14  4.486894e-06  4.486893e-06\n",
              "14  4.693081e-17  8.674786e-07  8.674786e-07\n",
              "15  1.281608e-20  1.565339e-07  1.565339e-07\n",
              "16  5.326920e-25  2.648071e-08  2.648071e-08\n",
              "17  1.260536e-30  4.216205e-09  4.216205e-09\n",
              "18  1.900000e-38  6.340014e-10  6.340014e-10\n",
              "19  1.818989e-51  9.031869e-11  9.031869e-11\n",
              "20  0.000000e+00  1.222331e-11  1.222331e-11"
            ]
          },
          "metadata": {
            "tags": []
          },
          "execution_count": 5
        }
      ]
    },
    {
      "cell_type": "code",
      "metadata": {
        "id": "7kwVwd1JH3W7"
      },
      "source": [
        ""
      ],
      "execution_count": null,
      "outputs": []
    }
  ]
}